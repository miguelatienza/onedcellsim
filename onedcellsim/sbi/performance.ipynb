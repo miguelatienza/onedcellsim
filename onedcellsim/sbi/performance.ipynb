{
 "cells": [
  {
   "cell_type": "code",
   "execution_count": 1,
   "metadata": {},
   "outputs": [],
   "source": [
    "import numpy as np\n",
    "import pandas as pd\n",
    "import matplotlib.pyplot as plt"
   ]
  },
  {
   "cell_type": "code",
   "execution_count": 31,
   "metadata": {},
   "outputs": [],
   "source": [
    "df = pd.DataFrame(columns=['parameter_names', 'nde', 'n_mades', 'n_hidden', 'compression', 'n_simulations', 'logprob0', 'logprob_val', 'batch_size'])"
   ]
  },
  {
   "cell_type": "code",
   "execution_count": 32,
   "metadata": {},
   "outputs": [],
   "source": [
    "model_new = pd.DataFrame(columns=['parameter_names', 'n_mades'])\n",
    "model_new['parameter_names'] = [['E', 'L0', 'Ve_0', 'c1', 'c3', 'k_max']]\n",
    "model_new['nde'] = 'maf'\n",
    "model_new['n_mades'] = 1\n",
    "model_new['n_hidden'] = 20\n",
    "model_new['compression'] = None\n",
    "model_new['n_simulations'] = 100_000\n",
    "model_new['logprob0'] = 18.284\n",
    "model_new['logprob_val'] = 22.0926\n",
    "model_new['batch_size'] = 5_000\n",
    "df = pd.concat([df, model_new])"
   ]
  },
  {
   "cell_type": "code",
   "execution_count": 33,
   "metadata": {},
   "outputs": [],
   "source": [
    "model_new = pd.DataFrame(columns=['parameter_names', 'n_mades'])\n",
    "model_new['parameter_names'] = [['E', 'L0', 'Ve_0', 'c1', 'c3', 'k_max']]\n",
    "model_new['nde'] = 'maf'\n",
    "model_new['n_mades'] = 5\n",
    "model_new['n_hidden'] = 20\n",
    "model_new['compression'] = None\n",
    "model_new['n_simulations'] = 100_000\n",
    "model_new['logprob0'] = 18.284\n",
    "model_new['logprob_val'] = 21.6586\n",
    "model_new['batch_size'] = 5_000\n",
    "df = pd.concat([df, model_new])"
   ]
  },
  {
   "cell_type": "code",
   "execution_count": 34,
   "metadata": {},
   "outputs": [],
   "source": [
    "model_new = pd.DataFrame(columns=['parameter_names', 'n_mades'])\n",
    "model_new['parameter_names'] = [['L0', 'Ve_0', 'c3', 'k_max', 'zeta_max']]\n",
    "model_new['nde'] = 'maf'\n",
    "model_new['n_mades'] = 1\n",
    "model_new['n_hidden'] = 20\n",
    "model_new['compression'] = None\n",
    "model_new['n_simulations'] = 100_000\n",
    "model_new['logprob0'] = -0.436\n",
    "model_new['logprob_val'] = 5.85\n",
    "model_new['batch_size'] = 5_000\n",
    "df = pd.concat([df, model_new])"
   ]
  },
  {
   "cell_type": "code",
   "execution_count": null,
   "metadata": {},
   "outputs": [],
   "source": [
    "model_new = pd.DataFrame(columns=['parameter_names', 'n_mades'])\n",
    "model_new['parameter_names'] = [['L0', 'Ve_0', 'c3', 'k_max', 'zeta_max']]\n",
    "model_new['nde'] = 'maf'\n",
    "model_new['n_mades'] = 3\n",
    "model_new['n_hidden'] = 20\n",
    "model_new['compression'] = None\n",
    "model_new['n_simulations'] = 100_000\n",
    "model_new['logprob0'] = -0.436\n",
    "model_new['logprob_val'] = 6.02\n",
    "model_new['batch_size'] = 5_000\n",
    "df = pd.concat([df, model_new])"
   ]
  },
  {
   "cell_type": "code",
   "execution_count": null,
   "metadata": {},
   "outputs": [],
   "source": []
  },
  {
   "cell_type": "code",
   "execution_count": 35,
   "metadata": {},
   "outputs": [
    {
     "data": {
      "text/html": [
       "<div>\n",
       "<style scoped>\n",
       "    .dataframe tbody tr th:only-of-type {\n",
       "        vertical-align: middle;\n",
       "    }\n",
       "\n",
       "    .dataframe tbody tr th {\n",
       "        vertical-align: top;\n",
       "    }\n",
       "\n",
       "    .dataframe thead th {\n",
       "        text-align: right;\n",
       "    }\n",
       "</style>\n",
       "<table border=\"1\" class=\"dataframe\">\n",
       "  <thead>\n",
       "    <tr style=\"text-align: right;\">\n",
       "      <th></th>\n",
       "      <th>parameter_names</th>\n",
       "      <th>nde</th>\n",
       "      <th>n_mades</th>\n",
       "      <th>n_hidden</th>\n",
       "      <th>compression</th>\n",
       "      <th>n_simulations</th>\n",
       "      <th>logprob0</th>\n",
       "      <th>logprob_val</th>\n",
       "      <th>batch_size</th>\n",
       "    </tr>\n",
       "  </thead>\n",
       "  <tbody>\n",
       "    <tr>\n",
       "      <th>0</th>\n",
       "      <td>[E, L0, Ve_0, c1, c3, k_max]</td>\n",
       "      <td>maf</td>\n",
       "      <td>1</td>\n",
       "      <td>20</td>\n",
       "      <td>None</td>\n",
       "      <td>100000</td>\n",
       "      <td>18.284</td>\n",
       "      <td>22.0926</td>\n",
       "      <td>5000</td>\n",
       "    </tr>\n",
       "    <tr>\n",
       "      <th>0</th>\n",
       "      <td>[E, L0, Ve_0, c1, c3, k_max]</td>\n",
       "      <td>maf</td>\n",
       "      <td>5</td>\n",
       "      <td>20</td>\n",
       "      <td>None</td>\n",
       "      <td>100000</td>\n",
       "      <td>18.284</td>\n",
       "      <td>21.6586</td>\n",
       "      <td>5000</td>\n",
       "    </tr>\n",
       "    <tr>\n",
       "      <th>0</th>\n",
       "      <td>[L0, Ve_0, c3, k_max, zeta_max]</td>\n",
       "      <td>maf</td>\n",
       "      <td>1</td>\n",
       "      <td>20</td>\n",
       "      <td>None</td>\n",
       "      <td>100000</td>\n",
       "      <td>-0.436</td>\n",
       "      <td>5.8500</td>\n",
       "      <td>5000</td>\n",
       "    </tr>\n",
       "  </tbody>\n",
       "</table>\n",
       "</div>"
      ],
      "text/plain": [
       "                   parameter_names  nde n_mades n_hidden compression  \\\n",
       "0     [E, L0, Ve_0, c1, c3, k_max]  maf       1       20        None   \n",
       "0     [E, L0, Ve_0, c1, c3, k_max]  maf       5       20        None   \n",
       "0  [L0, Ve_0, c3, k_max, zeta_max]  maf       1       20        None   \n",
       "\n",
       "  n_simulations  logprob0  logprob_val batch_size  \n",
       "0        100000    18.284      22.0926       5000  \n",
       "0        100000    18.284      21.6586       5000  \n",
       "0        100000    -0.436       5.8500       5000  "
      ]
     },
     "execution_count": 35,
     "metadata": {},
     "output_type": "execute_result"
    }
   ],
   "source": [
    "df"
   ]
  },
  {
   "cell_type": "markdown",
   "metadata": {},
   "source": []
  },
  {
   "cell_type": "code",
   "execution_count": null,
   "metadata": {},
   "outputs": [],
   "source": []
  }
 ],
 "metadata": {
  "kernelspec": {
   "display_name": "sbi",
   "language": "python",
   "name": "python3"
  },
  "language_info": {
   "codemirror_mode": {
    "name": "ipython",
    "version": 3
   },
   "file_extension": ".py",
   "mimetype": "text/x-python",
   "name": "python",
   "nbconvert_exporter": "python",
   "pygments_lexer": "ipython3",
   "version": "3.8.10"
  },
  "orig_nbformat": 4,
  "vscode": {
   "interpreter": {
    "hash": "1d98f31f423191712b0e2ec61ed177e64ccc2d7b1e3c29fa0a2abcc784588f5d"
   }
  }
 },
 "nbformat": 4,
 "nbformat_minor": 2
}
