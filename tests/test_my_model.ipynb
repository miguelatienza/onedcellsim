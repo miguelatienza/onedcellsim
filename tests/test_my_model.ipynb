{
 "cells": [
  {
   "cell_type": "code",
   "execution_count": 1,
   "metadata": {},
   "outputs": [
    {
     "data": {
      "application/vnd.jupyter.widget-view+json": {
       "model_id": "b340b62205454016b6ac94696032fa2e",
       "version_major": 2,
       "version_minor": 0
      },
      "text/plain": [
       "interactive(children=(FloatSlider(value=25.0, description='L0', max=30.0, min=1.0), FloatSlider(value=30.0, de…"
      ]
     },
     "metadata": {},
     "output_type": "display_data"
    }
   ],
   "source": [
    "from onedcellsim.simulations import new_model\n",
    "import numpy as np\n",
    "import matplotlib.pyplot as plt\n",
    "import ipywidgets as widgets\n",
    "from IPython.display import display\n",
    "\n",
    "# Define the parameter values and ranges\n",
    "L0_min, L0_max, L0_step = 1, 30, 0.1\n",
    "gamma_f_min, gamma_f_max, gamma_f_step = 0.1, 100, 0.1\n",
    "gamma_b_min, gamma_b_max, gamma_b_step = 0.1, 1, 0.1\n",
    "mf_min, mf_max, mf_step = 0.1, 10, 0.1\n",
    "mb_min, mb_max, mb_step = 0.1, 10, 0.1\n",
    "mc_min, mc_max, mc_step = 0.01, 1, 0.01\n",
    "Fc_min, Fc_max, Fc_step = 0.0, 1000, 1\n",
    "wc_min, wc_max, wc_step = 0.001, 1, 0.0001\n",
    "zeta_min, zeta_max, zeta_step = 0.1, 10, 0.1\n",
    "phi_min, phi_max, phi_step = 0, 2, 0.1\n",
    "\n",
    "# Define the slider widgets for each parameter\n",
    "L0_slider = widgets.FloatSlider(value=25, min=L0_min, max=L0_max, step=L0_step, description='L0')\n",
    "gamma_f_slider = widgets.FloatSlider(value=30, min=gamma_f_min, max=gamma_f_max, step=gamma_f_step, description='gamma_f', readout_format='.3f')\n",
    "gamma_b_slider = widgets.FloatSlider(value=1e-3, min=gamma_b_min, max=gamma_b_max, step=gamma_b_step, description='gamma_b', readout_format='.3f')\n",
    "mf_slider = widgets.FloatSlider(value=1, min=mf_min, max=mf_max, step=mf_step, description='mf')\n",
    "mb_slider = widgets.FloatSlider(value=1, min=mb_min, max=mb_max, step=mb_step, description='mb')\n",
    "mc_slider = widgets.FloatSlider(value=0.1, min=mc_min, max=mc_max, step=mc_step, description='mc')\n",
    "Lf0_slider = widgets.FloatSlider(value=40, min=0, max=100, step=1, description='Lf0')\n",
    "Fc_slider = widgets.FloatSlider(value=0, min=Fc_min, max=Fc_max, step=Fc_step, description='Fc')\n",
    "wc_slider = widgets.FloatSlider(value=0.001, min=wc_min, max=wc_max, step=wc_step, description='wc', readout_format='.3f')\n",
    "zeta_slider = widgets.FloatSlider(value=0.1, min=zeta_min, max=zeta_max, step=zeta_step, description='zeta', readout_format='.3f')\n",
    "phi_slider = widgets.FloatSlider(value=0, min=phi_min, max=phi_max, step=phi_step, description='phi', readout_format='.2f')\n",
    "\n",
    "# Define the plotting function\n",
    "def plot_simulation(L0, gamma_f, gamma_b, mf, mb, mc, Lf0, Fc, wc, zeta, phi):\n",
    "    parameters = {'L0': L0, 'gamma_f': gamma_f, 'gamma_b': gamma_f, 'mf': mf, 'mb': mb, 'mc': mc, 'Fc': Fc, 'wc': wc, 'zeta': zeta, 'phi': phi}\n",
    "    model = new_model.Model(parameters)\n",
    "    t_span = [0, 5]\n",
    "    yinit = [Lf0, Lf0, 0, 0, 00, 0]\n",
    "    sol = model.solve(t_span, yinit, t_eval = np.linspace(0,5,100))\n",
    "    Lf, Lb, xc, vf, vb, vc = sol.y\n",
    "    assert sol.y.shape[0] == 6\n",
    "    fig, axes = plt.subplots(ncols=2)\n",
    "    ax, axf = axes\n",
    "    ax.plot(sol.t, Lf+xc, label='Lf+xc')\n",
    "    ax.plot(sol.t, xc-Lb, label='xc-Lb')\n",
    "    ax.plot(sol.t, xc, label='xc')\n",
    "\n",
    "    Lf_freq = np.abs(np.fft.rfft(Lf))[1:]\n",
    "    freqs = np.fft.rfftfreq(Lf.size, 5/100)[1:]\n",
    "    axf.plot(1/freqs, Lf_freq, label='vf')\n",
    "    axf.text(0, Lf_freq.max()*0.8, f'{1/freqs[np.argmax(Lf_freq)]:.2f}')\n",
    "    #Calculate the power spectrum of Lf\n",
    "    Lb_freq = np.abs(np.fft.fft(Lb))\n",
    "\n",
    "    #axf.plot(sol.t, Lb_freq, label='vb')\n",
    "    ax.set_ylim([-200, 200])\n",
    "    ax.legend()\n",
    "    plt.show()\n",
    "\n",
    "# Combine the sliders and plotting function into an interactive widget\n",
    "interactive_plot = widgets.interactive(plot_simulation, L0=L0_slider, gamma_f=gamma_f_slider, gamma_b=gamma_b_slider, mf=mf_slider, mb=mb_slider, mc=mc_slider, Lf0=Lf0_slider, Fc=Fc_slider, wc=wc_slider, zeta=zeta_slider, phi=phi_slider)\n",
    "plt.show()\n",
    "display(interactive_plot)"
   ]
  },
  {
   "cell_type": "code",
   "execution_count": 2,
   "metadata": {},
   "outputs": [],
   "source": [
    "%load_ext autoreload"
   ]
  },
  {
   "cell_type": "code",
   "execution_count": 21,
   "metadata": {},
   "outputs": [
    {
     "data": {
      "text/plain": [
       "[<matplotlib.lines.Line2D at 0x7f9c5ea47520>]"
      ]
     },
     "execution_count": 21,
     "metadata": {},
     "output_type": "execute_result"
    },
    {
     "data": {
      "image/png": "[encoded data removed]",
      "text/plain": [
       "<Figure size 640x480 with 1 Axes>"
      ]
     },
     "metadata": {},
     "output_type": "display_data"
    }
   ],
   "source": [
    "E = [2.85e-3, 1.47e-3, 5.1e-4]\n",
    "npeaks = np.array([3, 2, 1])\n",
    "T = 5/npeaks\n",
    "plt.plot(E, 1/T**2, marker='o')"
   ]
  },
  {
   "cell_type": "code",
   "execution_count": 122,
   "metadata": {},
   "outputs": [],
   "source": [
    "%autoreload\n",
    "##Now plot sliders for the GovModel\n",
    "\n",
    "# Define the parameter values and ranges\n",
    "\n",
    "E_min, E_max, E_step, E_default = 0, 1.6, 0.1, 0.8\n",
    "Ve0_min, Ve0_max, Ve0_step, Ve0_default = .01, 10, .01, 1\n",
    "#zeta_min, zeta_max, zeta_step, zeta_default = 0.1, 10, 0.1, 1\n",
    "#N_min, N_max, N_step, N_default = 40, 50, 1, 45\n",
    "#kon_min, kon_max, kon_step, kon_default = 1e-4, 1e-2, 1e-4, 1e-3\n",
    "#koff_min, koff_max, koff_step, koff_default = 1e-4, 1e-2, 1e-4, 1e-3\n",
    "r_min, r_max, r_step, r_default = 0.1, 10, 0.1, 8.5\n",
    "fs_min, fs_max, fs_step, fs_default = 4, 6, 0.1, 5\n",
    "k_min, k_max, k_step, k_default = 20, 30, 0.1, 20\n",
    "#alpha_min, alpha_max, alpha_step, alpha_default = 0.071, 0.2, 0.001, 0.1\n",
    "\n",
    "# Define the slider widgets for each parameter\n",
    "# L0_slider = widgets.FloatSlider(value=L_default, min=L0_min, max=L0_max, step=L0_step, description='L0')\n",
    "E_slider = widgets.FloatSlider(value=E_default, min=E_min, max=E_max, step=E_step, description='E', readout_format='.3f')\n",
    "Ve0_slider = widgets.FloatSlider(value=Ve0_default, min=Ve0_min, max=Ve0_max, step=Ve0_step, description='Ve0', readout_format='.3f')\n",
    "# zeta_slider = widgets.FloatSlider(value=zeta_default, min=zeta_min, max=zeta_max, step=zeta_step, description='zeta')\n",
    "# N_slider = widgets.FloatSlider(value=N_default, min=N_min, max=N_max, step=N_step, description='N')\n",
    "# kon_slider = widgets.FloatSlider(value=kon_default, min=kon_min, max=kon_max, step=kon_step, description='kon')\n",
    "# koff_slider = widgets.FloatSlider(value=koff_default, min=koff_min, max=koff_max, step=koff_step, description='koff')\n",
    "fs_slider = widgets.FloatSlider(value=fs_default, min=fs_min, max=fs_max, step=fs_step, description='fs')\n",
    "r_slider = widgets.FloatSlider(value=r_default, min=r_min, max=r_max, step=r_step, description='r')\n",
    "k_slider = widgets.FloatSlider(value=k_default, min=k_min, max=k_max, step=k_step, description='k')\n",
    "# alpha_slider = widgets.FloatSlider(value=alpha_default, min=alpha_min, max=alpha_max, step=alpha_step, description='alpha')\n",
    "\n",
    "# zeta_slider = widgets.FloatSlider(value=1, min=zeta_min, max=zeta_max, step=zeta_step, description='zeta')\n",
    "# N_slider = widgets.FloatSlider(value=1, min=N_min, max=N_max, step=N_step, description='N')\n",
    "# kon_slider = widgets.FloatSlider(value=1, min=kon_min, max=kon_max, step=kon_step, description='kon')\n",
    "# koff_slider = widgets.FloatSlider(value=1, min=koff_min, max=koff_max, step=koff_step, description='koff')\n",
    "# fs_slider = widgets.FloatSlider(value=1, min=fs_min, max=fs_max, step=fs_step, description='fs')\n",
    "# alpha_slider = widgets.FloatSlider(value=1, min=alpha_min, max=alpha_max, step=alpha_step, description='alpha')\n",
    "\n",
    "# Define the plotting function\n",
    "def plot_simulation(E, Ve0, r, fs, k):\n",
    "    # Define the parameters\n",
    "    parameters = {'E': E, 'Ve0': Ve0, 'r': r, 'fs': fs, 'k': k}\n",
    "\n",
    "    model = new_model.GovModel(parameters)\n",
    "    t_span = [0, 5]\n",
    "    t_eval = np.linspace(0,5,100)\n",
    "    #t_eval=None\n",
    "    yinit = [2, 0.8]\n",
    "    global sol\n",
    "    t, y = model.solve(t_span, yinit, t_eval = t_eval, method='BDF')\n",
    "    Lf, n = y\n",
    "    #assert sol.y.shape[0] == 2\n",
    "    #print(sol.t)\n",
    "    fig, axes = plt.subplots(ncols=2)\n",
    "    ax, axf = axes\n",
    "    ax.plot(t, Lf, label='Lf')\n",
    "    axf.plot(t, n, label='n')\n",
    "    #plt.show()\n",
    "    "
   ]
  },
  {
   "cell_type": "code",
   "execution_count": 123,
   "metadata": {},
   "outputs": [
    {
     "data": {
      "application/vnd.jupyter.widget-view+json": {
       "model_id": "ac6606fe810b43708d9ab91bc9056a62",
       "version_major": 2,
       "version_minor": 0
      },
      "text/plain": [
       "interactive(children=(FloatSlider(value=0.8, description='E', max=1.6, readout_format='.3f'), FloatSlider(valu…"
      ]
     },
     "metadata": {},
     "output_type": "display_data"
    }
   ],
   "source": [
    "interactive_plot = widgets.interactive(plot_simulation, E=E_slider, Ve0=Ve0_slider, fs=fs_slider, r=r_slider, k=k_slider)\n",
    "display(interactive_plot)"
   ]
  },
  {
   "cell_type": "code",
   "execution_count": 79,
   "metadata": {},
   "outputs": [
    {
     "ename": "NameError",
     "evalue": "name 'sol' is not defined",
     "output_type": "error",
     "traceback": [
      "\u001b[0;31m---------------------------------------------------------------------------\u001b[0m",
      "\u001b[0;31mNameError\u001b[0m                                 Traceback (most recent call last)",
      "Cell \u001b[0;32mIn [79], line 1\u001b[0m\n\u001b[0;32m----> 1\u001b[0m sol\u001b[39m.\u001b[39my\u001b[39m.\u001b[39mshape\n",
      "\u001b[0;31mNameError\u001b[0m: name 'sol' is not defined"
     ]
    }
   ],
   "source": [
    "sol.y.shape"
   ]
  },
  {
   "cell_type": "code",
   "execution_count": 26,
   "metadata": {},
   "outputs": [
    {
     "data": {
      "text/plain": [
       "(2, 25510)"
      ]
     },
     "execution_count": 26,
     "metadata": {},
     "output_type": "execute_result"
    }
   ],
   "source": [
    "np.concatenate([sol.y, sol.y], axis=-1).shape"
   ]
  },
  {
   "cell_type": "code",
   "execution_count": null,
   "metadata": {},
   "outputs": [],
   "source": []
  }
 ],
 "metadata": {
  "kernelspec": {
   "display_name": "sbi",
   "language": "python",
   "name": "python3"
  },
  "language_info": {
   "codemirror_mode": {
    "name": "ipython",
    "version": 3
   },
   "file_extension": ".py",
   "mimetype": "text/x-python",
   "name": "python",
   "nbconvert_exporter": "python",
   "pygments_lexer": "ipython3",
   "version": "3.8.10"
  },
  "orig_nbformat": 4,
  "vscode": {
   "interpreter": {
    "hash": "1d98f31f423191712b0e2ec61ed177e64ccc2d7b1e3c29fa0a2abcc784588f5d"
   }
  }
 },
 "nbformat": 4,
 "nbformat_minor": 2
}
